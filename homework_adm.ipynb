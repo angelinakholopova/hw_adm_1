{
 "cells": [
  {
   "cell_type": "code",
   "execution_count": 11,
   "id": "e58d7949-7897-4bbb-bd7b-f75b2b58d1b0",
   "metadata": {},
   "outputs": [
    {
     "name": "stdout",
     "output_type": "stream",
     "text": [
      "True\n"
     ]
    }
   ],
   "source": [
    "#Problem 1. Introduction. Write a function\n",
    "\n",
    "def leap(year):\n",
    "    leap = False\n",
    "    if year%4 != 0 or (year%100 == 0 and (year//100)%4 != 0):\n",
    "        leap = False\n",
    "    else:\n",
    "        leap = True\n",
    "    return leap\n",
    "\n",
    "year = 2000\n",
    "print(leap(year))"
   ]
  },
  {
   "cell_type": "code",
   "execution_count": null,
   "id": "d532727e-646d-442a-a5fe-2a3f16d8952c",
   "metadata": {},
   "outputs": [],
   "source": [
    "#Problem 1. Introduction. Loops\n",
    "\n",
    "if __name__ == '__main__':\n",
    "    n = int(input())\n",
    "    for i in range(n):\n",
    "        print(i**2)\n"
   ]
  },
  {
   "cell_type": "code",
   "execution_count": null,
   "id": "20634080-2128-4bbf-a9c9-209e9b60515e",
   "metadata": {},
   "outputs": [],
   "source": [
    "#Problem 1. Introduction. Python: Division\n",
    "\n",
    "if __name__ == '__main__':\n",
    "    a = int(input())\n",
    "    b = int(input())\n",
    "    print(a//b)\n",
    "    print(a/b)\n"
   ]
  },
  {
   "cell_type": "code",
   "execution_count": 64,
   "id": "2b4b3457-2192-4997-96a4-65535f38ada9",
   "metadata": {},
   "outputs": [
    {
     "name": "stdin",
     "output_type": "stream",
     "text": [
      " 1\n",
      " 2\n"
     ]
    },
    {
     "name": "stdout",
     "output_type": "stream",
     "text": [
      "3\n",
      "-1\n",
      "2\n"
     ]
    }
   ],
   "source": [
    "#Problem 1. Introduction. Arithmetic Operators\n",
    "\n",
    "if __name__ == '__main__':\n",
    "    a = int(input())\n",
    "    b = int(input())\n",
    "    print(a+b)\n",
    "    print(a-b)\n",
    "    print(a*b)\n",
    "  "
   ]
  },
  {
   "cell_type": "code",
   "execution_count": null,
   "id": "4ed4c378-d896-416f-9526-5ab525112756",
   "metadata": {},
   "outputs": [],
   "source": [
    "#Problem 1. Introduction. Python If-Else\n",
    "\n",
    "if __name__ == '__main__':\n",
    "    n = int(input().strip())\n",
    "    if n % 2 == 0 and (2 <= n <= 5 or n > 20):\n",
    "        print('Not Weird')\n",
    "    else:\n",
    "        print('Weird')\n"
   ]
  },
  {
   "cell_type": "code",
   "execution_count": null,
   "id": "3d23250c-ad40-4e40-bfe9-b6b85fa731e8",
   "metadata": {},
   "outputs": [],
   "source": [
    "#Problem 1. Introduction. Say \"Hello, World!\" With Python\n",
    "\n",
    "print(\"Hello, World!\")"
   ]
  },
  {
   "cell_type": "code",
   "execution_count": 19,
   "id": "41791c28-0909-4726-b4c6-6d2dd66643f5",
   "metadata": {},
   "outputs": [
    {
     "name": "stdin",
     "output_type": "stream",
     "text": [
      " 5\n"
     ]
    },
    {
     "name": "stdout",
     "output_type": "stream",
     "text": [
      "12345\n"
     ]
    }
   ],
   "source": [
    "#Problem 1. Introduction. Print Function\n",
    "\n",
    "n = int(input())\n",
    "string = ''\n",
    "for i in range(n):\n",
    "    string += str(i+1)\n",
    "print(string)\n"
   ]
  },
  {
   "cell_type": "code",
   "execution_count": 47,
   "id": "90aba3e6-c381-49eb-8f73-f5d6e1871569",
   "metadata": {},
   "outputs": [
    {
     "name": "stdin",
     "output_type": "stream",
     "text": [
      " 1\n",
      " 1\n",
      " 1\n",
      " 2\n"
     ]
    },
    {
     "name": "stdout",
     "output_type": "stream",
     "text": [
      "[[0, 0, 0], [0, 0, 1], [0, 1, 0], [1, 0, 0], [1, 1, 1]]\n"
     ]
    }
   ],
   "source": [
    "#Problem 1. Basic Data Types. List Comprehensions\n",
    "\n",
    "x = int(input())\n",
    "y = int(input())\n",
    "z = int(input())\n",
    "n = int(input())\n",
    "coord = list()\n",
    "final_array = list()\n",
    "for i in range(x+1):\n",
    "    for j in range(y+1):\n",
    "        for k in range(z+1):\n",
    "            if i+j+k != n:\n",
    "                coord.append(i)\n",
    "                coord.append(j)\n",
    "                coord.append(k)\n",
    "                final_array.append(coord)\n",
    "                coord = []\n",
    "print(final_array)\n",
    "            "
   ]
  },
  {
   "cell_type": "code",
   "execution_count": 59,
   "id": "2292d3c8-18ff-45c2-9e55-1379ec0549eb",
   "metadata": {},
   "outputs": [
    {
     "name": "stdin",
     "output_type": "stream",
     "text": [
      " 2\n",
      " 1 2 3\n"
     ]
    },
    {
     "name": "stdout",
     "output_type": "stream",
     "text": [
      "2\n"
     ]
    }
   ],
   "source": [
    "#Problem 1. Basic Data Types. Find the Runner-Up Score!\n",
    "\n",
    "n = int(input())\n",
    "arr = list(map(int, input().split()))\n",
    "max_sc = max(arr)\n",
    "while max_sc in arr:\n",
    "    arr.remove(max_sc)\n",
    "runner_up = max(arr)\n",
    "print(runner_up)"
   ]
  },
  {
   "cell_type": "code",
   "execution_count": 1,
   "id": "bcffc827-ba84-4d6b-8db4-e77a2f2bbdd7",
   "metadata": {},
   "outputs": [
    {
     "name": "stdin",
     "output_type": "stream",
     "text": [
      " 4\n",
      " f\n",
      " 2\n",
      " d\n",
      " 3\n",
      " y\n",
      " 3\n",
      " b\n",
      " 2\n"
     ]
    },
    {
     "name": "stdout",
     "output_type": "stream",
     "text": [
      "['d', 'y']\n"
     ]
    }
   ],
   "source": [
    "#Problem 1. Basic Data Types. Nested Lists\n",
    "\n",
    "scores = {}\n",
    "for _ in range(int(input())):\n",
    "    name = input()\n",
    "    score = float(input())\n",
    "    scores[name] = score\n",
    "min_score = min(scores.values())\n",
    "min_scores = [key for key, value in scores.items() if value == min_score]\n",
    "for key in min_scores:\n",
    "    del scores[key]\n",
    "min_score_2 = min(scores.values())\n",
    "min_scores_2 = [key for key, value in scores.items() if value == min_score_2]\n",
    "print(sorted(min_scores_2))"
   ]
  },
  {
   "cell_type": "code",
   "execution_count": 3,
   "id": "5f61658b-68a5-45cc-83f5-fd59f16c9cad",
   "metadata": {},
   "outputs": [
    {
     "name": "stdin",
     "output_type": "stream",
     "text": [
      " 3\n",
      " k 3 4 5 6 7\n",
      " h 5 4 6\n",
      " f 3 4\n",
      " h\n"
     ]
    },
    {
     "name": "stdout",
     "output_type": "stream",
     "text": [
      "5.00\n"
     ]
    }
   ],
   "source": [
    "#Problem 1. Basic Data Types. Finding the percentage\n",
    "\n",
    "n = int(input())\n",
    "student_marks = {}\n",
    "for _ in range(n):\n",
    "    name, *line = input().split()\n",
    "    scores = list(map(float, line))\n",
    "    student_marks[name] = scores\n",
    "query_name = input()\n",
    "average = sum(student_marks[query_name]) / len(student_marks[query_name])\n",
    "print(f\"{average:.2f}\")"
   ]
  },
  {
   "cell_type": "code",
   "execution_count": 11,
   "id": "d4fe8e5a-69c8-4117-a5af-ef2b353073a8",
   "metadata": {},
   "outputs": [
    {
     "name": "stdin",
     "output_type": "stream",
     "text": [
      " 4\n",
      " insert 0 5\n",
      " insert 1 10\n",
      " insert 0 6 \n",
      " print\n"
     ]
    },
    {
     "name": "stdout",
     "output_type": "stream",
     "text": [
      "[0, 1, 0]\n"
     ]
    }
   ],
   "source": [
    "#Problem 1. Basic Data Types. Lists\n",
    "\n",
    "arr = []\n",
    "    \n",
    "n = int(input())\n",
    "    \n",
    "for _ in range(n):\n",
    "    command = input().split()\n",
    "        \n",
    "    if command[0] == \"insert\":\n",
    "        arr.insert(int(command[1]), int(command[2]))\n",
    "        \n",
    "    elif command[0] == \"print\":\n",
    "        print(arr)\n",
    "        \n",
    "    elif command[0] == \"remove\":\n",
    "        arr.remove(int(command[1]))\n",
    "        \n",
    "    elif command[0] == \"append\":\n",
    "        arr.append(int(command[1]))\n",
    "        \n",
    "    elif command[0] == \"sort\":\n",
    "        arr.sort()\n",
    "        \n",
    "    elif command[0] == \"pop\":\n",
    "        arr.pop()\n",
    "        \n",
    "    elif command[0] == \"reverse\":\n",
    "        arr.reverse()\n"
   ]
  },
  {
   "cell_type": "code",
   "execution_count": 21,
   "id": "6c3fb01b-71c3-4802-9149-103b51b0a2ed",
   "metadata": {},
   "outputs": [
    {
     "name": "stdin",
     "output_type": "stream",
     "text": [
      " 2\n",
      " 1 2\n"
     ]
    },
    {
     "name": "stdout",
     "output_type": "stream",
     "text": [
      "(1, 2)\n",
      "-3550055125485641917\n"
     ]
    }
   ],
   "source": [
    "#Problem 1. Basic Data Types. Tuples\n",
    "\n",
    "n = int(input())\n",
    "integers = tuple(map(int, input().split()))\n",
    "print(integers)\n",
    "print(hash(integers))"
   ]
  },
  {
   "cell_type": "code",
   "execution_count": 23,
   "id": "18b50242-5d13-42d3-a054-ddcc024c3bce",
   "metadata": {},
   "outputs": [
    {
     "name": "stdin",
     "output_type": "stream",
     "text": [
      " HackerRank.com presents \"Pythonist 2\".\n"
     ]
    },
    {
     "name": "stdout",
     "output_type": "stream",
     "text": [
      "hACKERrANK.COM PRESENTS \"pYTHONIST 2\".\n"
     ]
    }
   ],
   "source": [
    "#Problem 1. Strings. sWAP cASE\n",
    "\n",
    "def swap_case(s):\n",
    "    return s.swapcase()\n",
    "string = input()\n",
    "print(swap_case(string))"
   ]
  },
  {
   "cell_type": "code",
   "execution_count": 25,
   "id": "fb1937ff-9468-4183-8a34-9035d021d151",
   "metadata": {},
   "outputs": [
    {
     "name": "stdin",
     "output_type": "stream",
     "text": [
      " yhy uniub byb\n"
     ]
    },
    {
     "name": "stdout",
     "output_type": "stream",
     "text": [
      "yhy-uniub-byb\n"
     ]
    }
   ],
   "source": [
    "#Problem 1. Strings. String Split and Join\n",
    "\n",
    "def split_and_join(line):\n",
    "    line = line.split(' ')\n",
    "    line = '-'.join(line)\n",
    "    return line\n",
    "\n",
    "\n",
    "line = input()\n",
    "result = split_and_join(line)\n",
    "print(result)"
   ]
  },
  {
   "cell_type": "code",
   "execution_count": 27,
   "id": "98dfbd65-eb3e-463a-8c49-40820c3a4c36",
   "metadata": {},
   "outputs": [
    {
     "name": "stdin",
     "output_type": "stream",
     "text": [
      " angelina\n",
      " kholopova\n"
     ]
    },
    {
     "name": "stdout",
     "output_type": "stream",
     "text": [
      "Hello angelina kholopova! You just delved into python.\n"
     ]
    }
   ],
   "source": [
    "#Problem 1. Strings. What's Your Name?\n",
    "\n",
    "def print_full_name(first, last):\n",
    "    print(f'Hello {first} {last}! You just delved into python.')\n",
    "first_name = input()\n",
    "last_name = input()\n",
    "print_full_name(first_name, last_name)"
   ]
  },
  {
   "cell_type": "code",
   "execution_count": 29,
   "id": "f569d93c-f73e-45ad-aae7-47b004a2cadf",
   "metadata": {},
   "outputs": [
    {
     "name": "stdin",
     "output_type": "stream",
     "text": [
      " ihiuiub\n",
      " 5 h\n"
     ]
    },
    {
     "name": "stdout",
     "output_type": "stream",
     "text": [
      "ihiuihb\n"
     ]
    }
   ],
   "source": [
    "#Problem 1. Strings. Mutations\n",
    "\n",
    "def mutate_string(string, position, character):\n",
    "    string = string[:position] + character + string[position+1:]\n",
    "    return string\n",
    "\n",
    "if __name__ == '__main__':\n",
    "    s = input()\n",
    "    i, c = input().split()\n",
    "    s_new = mutate_string(s, int(i), c)\n",
    "    print(s_new)"
   ]
  },
  {
   "cell_type": "code",
   "execution_count": null,
   "id": "4d9ab77d-5a9b-4ef7-9724-d4b38e82c434",
   "metadata": {},
   "outputs": [],
   "source": [
    "#Problem 1. Strings. Find a string\n",
    "\n",
    "def count_substring(string, sub_string):\n",
    "    count = 0\n",
    "    for i in range(len(string) - len(sub_string) + 1):\n",
    "        if string[i:i+len(sub_string)] == sub_string:\n",
    "            count += 1\n",
    "    return count\n",
    "    count += 1\n",
    "if __name__ == '__main__':\n",
    "    string = input().strip()\n",
    "    sub_string = input().strip()\n",
    "    \n",
    "    count = count_substring(string, sub_string)\n",
    "    print(count)"
   ]
  },
  {
   "cell_type": "code",
   "execution_count": null,
   "id": "acf2e337-ac94-4e8f-9b4f-5f03ac34cc55",
   "metadata": {},
   "outputs": [],
   "source": [
    "#Problem 1. Strings. String Validators\n",
    "\n",
    "if __name__ == '__main__':s = input().strip()\n",
    "print(any(char.isalnum() for char in s))\n",
    "print(any(char.isalpha() for char in s))\n",
    "print(any(char.isdigit() for char in s))\n",
    "print(any(char.islower() for char in s))\n",
    "print(any(char.isupper() for char in s))"
   ]
  },
  {
   "cell_type": "code",
   "execution_count": null,
   "id": "c66c2787-1345-41ff-9082-6d4b02865ccf",
   "metadata": {},
   "outputs": [],
   "source": [
    "#Problem 1. Strings. Text Wrap\n",
    "\n",
    "import textwrap\n",
    "\n",
    "def wrap(string, max_width):\n",
    "    return textwrap.fill(string, max_width)\n",
    "if __name__ == '__main__':\n",
    "    string, max_width = input(), int(input())\n",
    "    result = wrap(string, max_width)\n",
    "    print(result)"
   ]
  },
  {
   "cell_type": "code",
   "execution_count": null,
   "id": "d94b862d-ce40-41c6-881c-636f9784418d",
   "metadata": {},
   "outputs": [],
   "source": [
    "#Problem 1. Strings. Designer Door Mat\n",
    "\n",
    "def print_door_mat(n, m):\n",
    "    for i in range(1, n, 2):\n",
    "        pattern = \".|.\" * i\n",
    "        print(pattern.center(m, '-'))\n",
    "   \n",
    "    print(\"WELCOME\".center(m, '-'))\n",
    "    \n",
    "    \n",
    "    for i in range(n-2, -1, -2):\n",
    "        pattern = \".|.\" * i\n",
    "        print(pattern.center(m, '-'))\n",
    "\n",
    "if __name__ == '__main__':\n",
    "    n, m = map(int, input().split())\n",
    "    print_door_mat(n, m)"
   ]
  },
  {
   "cell_type": "code",
   "execution_count": null,
   "id": "e57ddb01-adc8-4757-9ca0-3ac582fb388b",
   "metadata": {},
   "outputs": [],
   "source": [
    "#Problem 1. Strings. String Formatting\n",
    "\n",
    "def print_formatted(number):\n",
    "    width = len(bin(number)) - 2\n",
    "    for i in range(1, number + 1):\n",
    "        print(f\"{i:>{width}} {oct(i)[2:]:>{width}} {hex(i)[2:].upper():>{width}} {bin(i)[2:]:>{width}}\")\n",
    "if __name__ == '__main__':\n",
    "    n = int(input())\n",
    "    print_formatted(n)"
   ]
  },
  {
   "cell_type": "code",
   "execution_count": null,
   "id": "4793df07-1a7e-42ce-af45-760f3bbb231c",
   "metadata": {},
   "outputs": [],
   "source": [
    "#Problem 1. Strings. Alphabet Rangoli\n",
    "\n",
    "import string\n",
    "\n",
    "def print_rangoli(size):\n",
    "    alphabet = string.ascii_lowercase\n",
    "    max_width = 4 * size - 3\n",
    "\n",
    "    lines = []\n",
    "    for i in range(size):\n",
    "        left_part = '-'.join(alphabet[size-1:i:-1])\n",
    "        right_part = '-'.join(alphabet[i:size])\n",
    "        line = (left_part + '-' + right_part if left_part else right_part).center(max_width, '-')\n",
    "        lines.append(line)\n",
    "    print('\\n'.join(lines[::-1] + lines[1:]))\n",
    "if __name__ == '__main__':\n",
    "    n = int(input())\n",
    "    print_rangoli(n)"
   ]
  },
  {
   "cell_type": "code",
   "execution_count": null,
   "id": "ef6f7699-2ea3-40ad-8c93-9c98d33d2365",
   "metadata": {},
   "outputs": [],
   "source": [
    "#Problem 1. Strings. Capitalize!\n",
    "\n",
    "def solve(s):\n",
    "    return s.title()\n",
    "\n",
    "if __name__ == '__main__':\n",
    "    fptr = open(os.environ['OUTPUT_PATH'], 'w')\n",
    "\n",
    "    s = input()\n",
    "\n",
    "    result = solve(s)\n",
    "\n",
    "    fptr.write(result + '\\n')\n",
    "\n",
    "    fptr.close()\n"
   ]
  },
  {
   "cell_type": "code",
   "execution_count": null,
   "id": "45eb8fec-4534-4cdb-aae9-69970bdbc804",
   "metadata": {},
   "outputs": [],
   "source": [
    "#Problem 1. Strings. The Minion Game\n",
    "\n",
    "def minion_game(string):\n",
    "    vowels = 'AEIOU'\n",
    "    stuart_score = 0\n",
    "    kevin_score = 0\n",
    "    length = len(string)\n",
    "\n",
    "    for i in range(length):\n",
    "        if string[i] in vowels:\n",
    "            kevin_score += length - i\n",
    "        else:\n",
    "            stuart_score += length - i\n",
    "\n",
    "    if stuart_score > kevin_score:\n",
    "        print(f\"Stuart {stuart_score}\")\n",
    "    elif kevin_score > stuart_score:\n",
    "        print(f\"Kevin {kevin_score}\")\n",
    "    else:\n",
    "        print(\"Draw\")\n",
    "if __name__ == '__main__':\n",
    "    s = input()\n",
    "    minion_game(s)"
   ]
  },
  {
   "cell_type": "code",
   "execution_count": null,
   "id": "00186747-162c-49ed-b0e8-9bf62f8f3219",
   "metadata": {},
   "outputs": [],
   "source": [
    "#Problem 1. Strings. Merge the Tools!\n",
    "\n",
    "def merge_the_tools(string, k):\n",
    "    for i in range(0, len(string), k):\n",
    "        substring = string[i:i+k]\n",
    "        unique_substring = ''\n",
    "        for char in substring:\n",
    "            if char not in unique_substring:\n",
    "                unique_substring += char\n",
    "        print(unique_substring)\n",
    "if __name__ == '__main__':\n",
    "    string, k = input(), int(input())\n",
    "    merge_the_tools(string, k)\n"
   ]
  },
  {
   "cell_type": "code",
   "execution_count": null,
   "id": "bdc32726-877d-44a0-88fa-b31cace35c31",
   "metadata": {},
   "outputs": [],
   "source": [
    "#Problem 1. Sets. Introduction to Sets\n",
    "\n",
    "def average(array):\n",
    "    array_set = set(array)\n",
    "    height = 0\n",
    "    for i in array_set:\n",
    "       height += i\n",
    "    avg_height = height/len(array_set)\n",
    "    return avg_height\n",
    "if __name__ == '__main__':\n",
    "    n = int(input())\n",
    "    arr = list(map(int, input().split()))\n",
    "    result = average(arr)\n",
    "    print(result)"
   ]
  },
  {
   "cell_type": "code",
   "execution_count": 32,
   "id": "b15b1f49-645f-4b2e-a875-5c01024c1c83",
   "metadata": {},
   "outputs": [
    {
     "name": "stdin",
     "output_type": "stream",
     "text": [
      " 5\n"
     ]
    },
    {
     "name": "stdout",
     "output_type": "stream",
     "text": [
      "    H    \n",
      "   HHH   \n",
      "  HHHHH  \n",
      " HHHHHHH \n",
      "HHHHHHHHH\n",
      "  HHHHH               HHHHH             \n",
      "  HHHHH               HHHHH             \n",
      "  HHHHH               HHHHH             \n",
      "  HHHHH               HHHHH             \n",
      "  HHHHH               HHHHH             \n",
      "  HHHHH               HHHHH             \n",
      "  HHHHHHHHHHHHHHHHHHHHHHHHH   \n",
      "  HHHHHHHHHHHHHHHHHHHHHHHHH   \n",
      "  HHHHHHHHHHHHHHHHHHHHHHHHH   \n",
      "  HHHHH               HHHHH             \n",
      "  HHHHH               HHHHH             \n",
      "  HHHHH               HHHHH             \n",
      "  HHHHH               HHHHH             \n",
      "  HHHHH               HHHHH             \n",
      "  HHHHH               HHHHH             \n",
      "                    HHHHHHHHH \n",
      "                     HHHHHHH  \n",
      "                      HHHHH   \n",
      "                       HHH    \n",
      "                        H     \n"
     ]
    }
   ],
   "source": [
    "#Problem 1. Strings. Text Alignment. \n",
    "\n",
    "thickness = int(input()) #This must be an odd number\n",
    "c = 'H'\n",
    "\n",
    "#Top Cone\n",
    "for i in range(thickness):\n",
    "    print((c*i).rjust(thickness-1)+c+(c*i).ljust(thickness-1))\n",
    "\n",
    "#Top Pillars\n",
    "for i in range(thickness+1):\n",
    "    print((c*thickness).center(thickness*2)+(c*thickness).center(thickness*6))\n",
    "\n",
    "#Middle Belt\n",
    "for i in range((thickness+1)//2):\n",
    "    print((c*thickness*5).center(thickness*6))    \n",
    "\n",
    "#Bottom Pillars\n",
    "for i in range(thickness+1):\n",
    "    print((c*thickness).center(thickness*2)+(c*thickness).center(thickness*6))    \n",
    "\n",
    "#Bottom Cone\n",
    "for i in range(thickness):\n",
    "    print(((c*(thickness-i-1)).rjust(thickness)+c+(c*(thickness-i-1)).ljust(thickness)).rjust(thickness*6))"
   ]
  },
  {
   "cell_type": "code",
   "execution_count": 34,
   "id": "c94aebbb-2434-4231-94fe-d14e071a4388",
   "metadata": {},
   "outputs": [
    {
     "name": "stdin",
     "output_type": "stream",
     "text": [
      " 3 2\n",
      " 1 5 3\n",
      " 3 1\n",
      " 5 7\n"
     ]
    },
    {
     "name": "stdout",
     "output_type": "stream",
     "text": [
      "1\n"
     ]
    }
   ],
   "source": [
    "#Problem 1. Sets. No Idea!\n",
    "\n",
    "n, m = map(int, input().split())\n",
    "arr = list(map(int, input().split()))\n",
    "A = set(map(int, input().split()))\n",
    "B = set(map(int, input().split()))\n",
    "\n",
    "happiness = 0\n",
    "\n",
    "for num in arr:\n",
    "    if num in A:\n",
    "        happiness += 1\n",
    "    elif num in B:\n",
    "        happiness -= 1\n",
    "\n",
    "print(happiness)\n"
   ]
  },
  {
   "cell_type": "code",
   "execution_count": 36,
   "id": "56a3af39-9d14-4d63-a567-f5bc2cbcb68c",
   "metadata": {},
   "outputs": [
    {
     "name": "stdin",
     "output_type": "stream",
     "text": [
      " 6\n",
      " russia\n",
      " italy\n",
      " ukraine\n",
      " russia\n",
      " usa\n",
      " italy\n"
     ]
    },
    {
     "name": "stdout",
     "output_type": "stream",
     "text": [
      "4\n"
     ]
    }
   ],
   "source": [
    "#Problem 1. Sets. Set.add()\n",
    "\n",
    "n = int(input())\n",
    "stamps = set()\n",
    "\n",
    "for _ in range(n):\n",
    "    stamps.add(input().strip())\n",
    "\n",
    "print(len(stamps))\n"
   ]
  },
  {
   "cell_type": "code",
   "execution_count": 38,
   "id": "0ef6cef6-4c19-49fc-8371-35fd0fd1ab91",
   "metadata": {},
   "outputs": [
    {
     "name": "stdin",
     "output_type": "stream",
     "text": [
      " 9\n",
      " 1 2 3 4 5 6 7 8 9\n",
      " 10\n",
      " pop\n",
      " remove 9\n",
      " discard 10\n",
      " discard 8\n",
      " remove 7\n",
      " pop\n",
      " discard 6\n",
      " pop\n",
      " pop\n",
      " pop\n"
     ]
    },
    {
     "name": "stdout",
     "output_type": "stream",
     "text": [
      "0\n"
     ]
    }
   ],
   "source": [
    "#Problem 1. Sets. Set .discard(), .remove() & .pop()\n",
    "\n",
    "n = int(input())\n",
    "s = set(map(int, input().split()))\n",
    "N = int(input())\n",
    "\n",
    "for _ in range(N):\n",
    "    command = input().split()\n",
    "    if command[0] == 'pop':\n",
    "        s.pop()\n",
    "    elif command[0] == 'remove':\n",
    "        s.remove(int(command[1]))\n",
    "    elif command[0] == 'discard':\n",
    "        s.discard(int(command[1]))\n",
    "\n",
    "print(sum(s))"
   ]
  },
  {
   "cell_type": "code",
   "execution_count": 40,
   "id": "0043c488-c1ef-4ef6-97ec-89e17a122319",
   "metadata": {},
   "outputs": [
    {
     "name": "stdin",
     "output_type": "stream",
     "text": [
      " 10\n",
      " 1 2 3 4 5 6 7 8 9 10\n",
      " 10\n",
      " 87 65 48 36 1 3 78 5 8 10\n"
     ]
    },
    {
     "name": "stdout",
     "output_type": "stream",
     "text": [
      "15\n"
     ]
    }
   ],
   "source": [
    "#Problem 1. Sets. Set .union() Operation\n",
    "\n",
    "n = int(input())\n",
    "english_subscribers = set(map(int, input().split()))\n",
    "\n",
    "b = int(input())\n",
    "french_subscribers = set(map(int, input().split()))\n",
    "\n",
    "total_subscribers = english_subscribers.union(french_subscribers)\n",
    "\n",
    "print(len(total_subscribers))\n"
   ]
  },
  {
   "cell_type": "code",
   "execution_count": 42,
   "id": "d62cbe3d-620f-467b-b467-219c11bdee38",
   "metadata": {},
   "outputs": [
    {
     "name": "stdin",
     "output_type": "stream",
     "text": [
      " 10\n",
      " 1 2 3 4 5 6 7 8 9 10\n",
      " 10\n",
      " 23 34 45 67 56 1 3 67 5 39\n"
     ]
    },
    {
     "name": "stdout",
     "output_type": "stream",
     "text": [
      "3\n"
     ]
    }
   ],
   "source": [
    "#Problem 1. Sets. Set .intersection() Operation\n",
    "\n",
    "n = int(input())\n",
    "english_subscribers = set(map(int, input().split()))\n",
    "\n",
    "b = int(input())\n",
    "french_subscribers = set(map(int, input().split()))\n",
    "\n",
    "both_subscribers = english_subscribers.intersection(french_subscribers)\n",
    "\n",
    "print(len(both_subscribers))\n"
   ]
  },
  {
   "cell_type": "code",
   "execution_count": 44,
   "id": "d33de4ef-d196-4342-a4b3-cbdcb8e652e2",
   "metadata": {},
   "outputs": [
    {
     "name": "stdin",
     "output_type": "stream",
     "text": [
      " 10\n",
      " 1 2 3 4 5 6 7 8 9 10\n",
      " 9\n",
      " 23 1 45 3 4 56 67 78 6\n"
     ]
    },
    {
     "name": "stdout",
     "output_type": "stream",
     "text": [
      "6\n"
     ]
    }
   ],
   "source": [
    "#Problem 1. Sets. Set .difference() Operation\n",
    "\n",
    "n = int(input())\n",
    "english_subscribers = set(map(int, input().split()))\n",
    "\n",
    "b = int(input())\n",
    "french_subscribers = set(map(int, input().split()))\n",
    "\n",
    "only_english_subscribers = english_subscribers.difference(french_subscribers)\n",
    "\n",
    "print(len(only_english_subscribers))\n"
   ]
  },
  {
   "cell_type": "code",
   "execution_count": 48,
   "id": "d671fd2d-ae0d-470a-8fa2-4a2d2d4e0efb",
   "metadata": {},
   "outputs": [
    {
     "name": "stdin",
     "output_type": "stream",
     "text": [
      " 4\n",
      " 1 2 3 4\n",
      " 5\n",
      " 1 23 35 4 45\n"
     ]
    },
    {
     "name": "stdout",
     "output_type": "stream",
     "text": [
      "5\n"
     ]
    }
   ],
   "source": [
    "#Problem 1. Sets. Set .symmetric_difference() Operation\n",
    "\n",
    "n = int(input())\n",
    "english_subscribers = set(map(int, input().split()))\n",
    "\n",
    "b = int(input())\n",
    "french_subscribers = set(map(int, input().split()))\n",
    "\n",
    "either_but_not_both = english_subscribers.symmetric_difference(french_subscribers)\n",
    "\n",
    "print(len(either_but_not_both))\n"
   ]
  },
  {
   "cell_type": "code",
   "execution_count": null,
   "id": "5969e181-9e0a-48e5-b089-aad5a15e04b5",
   "metadata": {},
   "outputs": [],
   "source": [
    "#Problem 1. Sets. Set Mutations\n",
    "\n",
    "num_elements_in_A = int(input())\n",
    "A = set(map(int, input().split()))\n",
    "\n",
    "N = int(input())\n",
    "\n",
    "for _ in range(N):\n",
    "    operation = input().split()[0]\n",
    "    other_set = set(map(int, input().split()))\n",
    "    \n",
    "    if operation == \"update\":\n",
    "        A.update(other_set)\n",
    "    elif operation == \"intersection_update\":\n",
    "        A.intersection_update(other_set)\n",
    "    elif operation == \"difference_update\":\n",
    "        A.difference_update(other_set)\n",
    "    elif operation == \"symmetric_difference_update\":\n",
    "        A.symmetric_difference_update(other_set)\n",
    "\n",
    "print(sum(A))"
   ]
  },
  {
   "cell_type": "code",
   "execution_count": null,
   "id": "21987400-b394-4922-8fad-680a292bf140",
   "metadata": {},
   "outputs": [],
   "source": [
    "#Problem 1. Sets. The Captain's Room\n",
    "\n",
    "K = int(input())\n",
    "room_numbers = list(map(int, input().split()))\n",
    "\n",
    "unique_rooms = set(room_numbers)\n",
    "\n",
    "captains_room = (sum(unique_rooms) * K - sum(room_numbers)) // (K - 1)\n",
    "\n",
    "print(captains_room)\n"
   ]
  },
  {
   "cell_type": "code",
   "execution_count": null,
   "id": "0b151b44-2c6f-41ca-bd2b-5c1f72bd39d4",
   "metadata": {},
   "outputs": [],
   "source": [
    "#Problem 1. Sets. Symmetric Difference\n",
    "\n",
    "M = int(input())\n",
    "set_M = set(map(int, input().split()))\n",
    "\n",
    "N = int(input())\n",
    "set_N = set(map(int, input().split()))\n",
    "\n",
    "symmetric_diff = set_M.symmetric_difference(set_N)\n",
    "\n",
    "for num in sorted(symmetric_diff):\n",
    "    print(num)\n"
   ]
  },
  {
   "cell_type": "code",
   "execution_count": null,
   "id": "5522bf22-8256-4518-8fe0-a846d587f28a",
   "metadata": {},
   "outputs": [],
   "source": [
    "#Problem 1. Sets. Check Subset\n",
    "\n",
    "T = int(input())\n",
    "\n",
    "for _ in range(T):\n",
    "    n_A = int(input())\n",
    "    A = set(map(int, input().split()))\n",
    "    n_B = int(input())\n",
    "    B = set(map(int, input().split()))\n",
    "    \n",
    "    print(A.issubset(B))\n"
   ]
  },
  {
   "cell_type": "code",
   "execution_count": null,
   "id": "d10bfa45-cd47-4001-b4a3-77f6c63875d2",
   "metadata": {},
   "outputs": [],
   "source": [
    "#Problem 1. Sets. Check Strict Superset\n",
    "\n",
    "A = set(map(int, input().split()))\n",
    "n = int(input())\n",
    "\n",
    "superset = True\n",
    "\n",
    "for _ in range(n):\n",
    "    set_2 = set(map(int, input().split()))\n",
    "    if not (A > set_2):\n",
    "        superset = False\n",
    "        break\n",
    "\n",
    "print(superset)\n"
   ]
  },
  {
   "cell_type": "code",
   "execution_count": null,
   "id": "5962ac71-2070-4bcb-96c9-4100c89ac4d1",
   "metadata": {},
   "outputs": [],
   "source": [
    "#Problem 1. Collections. collections.Counter()\n",
    "\n",
    "from collections import Counter\n",
    "\n",
    "X = int(input())\n",
    "shoe_sizes = list(map(int, input().split()))\n",
    "N = int(input())\n",
    "\n",
    "inventory = Counter(shoe_sizes)\n",
    "money = 0\n",
    "\n",
    "for _ in range(N):\n",
    "    size, price = map(int, input().split())\n",
    "    if inventory[size] > 0:\n",
    "        money += price\n",
    "        inventory[size] -= 1\n",
    "\n",
    "print(money)\n"
   ]
  },
  {
   "cell_type": "code",
   "execution_count": null,
   "id": "8e3aa714-9fd9-45e7-88e1-b20da692d7fd",
   "metadata": {},
   "outputs": [],
   "source": [
    "#Problem 1. Collections. DefaultDict Tutorial\n",
    "\n",
    "from collections import defaultdict\n",
    "\n",
    "n, m = map(int, input().split())\n",
    "group_A = [input().strip() for _ in range(n)]\n",
    "group_B = [input().strip() for _ in range(m)]\n",
    "\n",
    "indices = defaultdict(list)\n",
    "\n",
    "for i in range(n):\n",
    "    indices[group_A[i]].append(i + 1)\n",
    "\n",
    "for word in group_B:\n",
    "    if word in indices:\n",
    "        print(' '.join(map(str, indices[word])))\n",
    "    else:\n",
    "        print(-1)\n"
   ]
  },
  {
   "cell_type": "code",
   "execution_count": null,
   "id": "8f4fb9bc-095b-4c43-8174-29f6d6e35c90",
   "metadata": {},
   "outputs": [],
   "source": [
    "#Problem 1. Collections. Collections.namedtuple()\n",
    "\n",
    "from collections import namedtuple\n",
    "\n",
    "N = int(input())\n",
    "columns = input().split()\n",
    "\n",
    "Student = namedtuple('Student', columns)\n",
    "\n",
    "total_marks = 0\n",
    "\n",
    "for _ in range(N):\n",
    "    data = input().split()\n",
    "    student = Student(*data)\n",
    "    total_marks += float(student.MARKS)\n",
    "\n",
    "average_marks = total_marks / N\n",
    "print(f'{average_marks:.2f}')\n"
   ]
  },
  {
   "cell_type": "code",
   "execution_count": null,
   "id": "5d5aaf6e-69c2-4508-81da-421fa8cde356",
   "metadata": {},
   "outputs": [],
   "source": [
    "#Problem 1. Collections. Collections.OrderedDict()\n",
    "\n",
    "from collections import OrderedDict\n",
    "\n",
    "N = int(input())\n",
    "items = OrderedDict()\n",
    "\n",
    "for _ in range(N):\n",
    "    *item_name, quantity_price = input().split()\n",
    "    item_name = ' '.join(item_name)\n",
    "    quantity_price = int(quantity_price)\n",
    "    \n",
    "    if item_name in items:\n",
    "        items[item_name] += quantity_price\n",
    "    else:\n",
    "        items[item_name] = quantity_price\n",
    "\n",
    "for item, total_price in items.items():\n",
    "    print(item, total_price)\n"
   ]
  },
  {
   "cell_type": "code",
   "execution_count": null,
   "id": "5c2a5e03-5d3f-41a5-b1cd-b5e8b85f9b75",
   "metadata": {},
   "outputs": [],
   "source": [
    "#Problem 1. Collections. Word Order\n",
    "\n",
    "from collections import OrderedDict\n",
    "\n",
    "n = int(input())\n",
    "words = OrderedDict()\n",
    "\n",
    "for _ in range(n):\n",
    "    word = input().strip()\n",
    "    if word in words:\n",
    "        words[word] += 1\n",
    "    else:\n",
    "        words[word] = 1\n",
    "\n",
    "print(len(words))\n",
    "print(\" \".join(map(str, words.values())))\n"
   ]
  },
  {
   "cell_type": "code",
   "execution_count": null,
   "id": "d067eaba-13e5-4d34-b657-60fb43274606",
   "metadata": {},
   "outputs": [],
   "source": [
    "#Problem 1. Collections. Collections.deque()\n",
    "\n",
    "from collections import deque\n",
    "\n",
    "d = deque()\n",
    "N = int(input())\n",
    "\n",
    "for i in range(N):\n",
    "    method = input().split()\n",
    "    if method[0] == 'append':\n",
    "        d.append(int(operation[1]))\n",
    "    elif method[0] == 'appendleft':\n",
    "        d.appendleft(int(operation[1]))\n",
    "    elif method[0] == 'pop':\n",
    "        d.pop()\n",
    "    elif method[0] == 'popleft':\n",
    "        d.popleft()\n",
    "\n",
    "print(' '.join(map(str, d)))\n"
   ]
  },
  {
   "cell_type": "code",
   "execution_count": null,
   "id": "7eb7c34a-3137-4988-89e1-43895d472485",
   "metadata": {},
   "outputs": [],
   "source": [
    "#Problem 1. Collections. Piling Up!\n",
    "\n",
    "for _ in range(int(input())):\n",
    "    n = int(input())\n",
    "    blocks = list(map(int, input().split()))\n",
    "\n",
    "    top = max(blocks[0], blocks[-1])\n",
    "    i, j = 0, n - 1\n",
    "\n",
    "    while i <= j:\n",
    "        if blocks[i] >= blocks[j]:\n",
    "            if blocks[i] > top:\n",
    "                print('No')\n",
    "                break\n",
    "            top = blocks[i]\n",
    "            i += 1\n",
    "        else:\n",
    "            if blocks[j] > top:\n",
    "                print('No')\n",
    "                break\n",
    "            top = blocks[j]\n",
    "            j -= 1\n",
    "    else:\n",
    "        print('Yes')"
   ]
  },
  {
   "cell_type": "code",
   "execution_count": null,
   "id": "b6160b54-6a40-4d3f-9ac8-ce3b04021620",
   "metadata": {},
   "outputs": [],
   "source": [
    "#Problem 1. Collections. Company Logo\n",
    "\n",
    "from collections import Counter\n",
    "\n",
    "\n",
    "\n",
    "if __name__ == '__main__':\n",
    "    s = input()\n",
    "    counter = Counter(s)\n",
    "\n",
    "\n",
    "    sorted_chars = sorted(counter.items(), key=lambda x: (-x[1], x[0]))\n",
    "\n",
    "    for char, count in sorted_chars[:3]:\n",
    "        print(char, count)"
   ]
  },
  {
   "cell_type": "code",
   "execution_count": 52,
   "id": "ecbec715-d60b-42ea-8418-6d2d7d52c30c",
   "metadata": {},
   "outputs": [
    {
     "name": "stdout",
     "output_type": "stream",
     "text": [
      "                                  2015\n",
      "\n",
      "      January                   February                   March\n",
      "Su Mo Tu We Th Fr Sa      Su Mo Tu We Th Fr Sa      Su Mo Tu We Th Fr Sa\n",
      "             1  2  3       1  2  3  4  5  6  7       1  2  3  4  5  6  7\n",
      " 4  5  6  7  8  9 10       8  9 10 11 12 13 14       8  9 10 11 12 13 14\n",
      "11 12 13 14 15 16 17      15 16 17 18 19 20 21      15 16 17 18 19 20 21\n",
      "18 19 20 21 22 23 24      22 23 24 25 26 27 28      22 23 24 25 26 27 28\n",
      "25 26 27 28 29 30 31                                29 30 31\n",
      "\n",
      "       April                      May                       June\n",
      "Su Mo Tu We Th Fr Sa      Su Mo Tu We Th Fr Sa      Su Mo Tu We Th Fr Sa\n",
      "          1  2  3  4                      1  2          1  2  3  4  5  6\n",
      " 5  6  7  8  9 10 11       3  4  5  6  7  8  9       7  8  9 10 11 12 13\n",
      "12 13 14 15 16 17 18      10 11 12 13 14 15 16      14 15 16 17 18 19 20\n",
      "19 20 21 22 23 24 25      17 18 19 20 21 22 23      21 22 23 24 25 26 27\n",
      "26 27 28 29 30            24 25 26 27 28 29 30      28 29 30\n",
      "                          31\n",
      "\n",
      "        July                     August                  September\n",
      "Su Mo Tu We Th Fr Sa      Su Mo Tu We Th Fr Sa      Su Mo Tu We Th Fr Sa\n",
      "          1  2  3  4                         1             1  2  3  4  5\n",
      " 5  6  7  8  9 10 11       2  3  4  5  6  7  8       6  7  8  9 10 11 12\n",
      "12 13 14 15 16 17 18       9 10 11 12 13 14 15      13 14 15 16 17 18 19\n",
      "19 20 21 22 23 24 25      16 17 18 19 20 21 22      20 21 22 23 24 25 26\n",
      "26 27 28 29 30 31         23 24 25 26 27 28 29      27 28 29 30\n",
      "                          30 31\n",
      "\n",
      "      October                   November                  December\n",
      "Su Mo Tu We Th Fr Sa      Su Mo Tu We Th Fr Sa      Su Mo Tu We Th Fr Sa\n",
      "             1  2  3       1  2  3  4  5  6  7             1  2  3  4  5\n",
      " 4  5  6  7  8  9 10       8  9 10 11 12 13 14       6  7  8  9 10 11 12\n",
      "11 12 13 14 15 16 17      15 16 17 18 19 20 21      13 14 15 16 17 18 19\n",
      "18 19 20 21 22 23 24      22 23 24 25 26 27 28      20 21 22 23 24 25 26\n",
      "25 26 27 28 29 30 31      29 30                     27 28 29 30 31\n",
      "\n"
     ]
    }
   ],
   "source": [
    "import calendar\n",
    "\n",
    "print(calendar.TextCalendar(firstweekday=6).formatyear(2015))"
   ]
  },
  {
   "cell_type": "code",
   "execution_count": null,
   "id": "73cd9274-e5ac-4a35-b809-4efcba2bf771",
   "metadata": {},
   "outputs": [],
   "source": [
    "#Problem 1. Date and time. Calendar Module\n",
    "\n",
    "import calendar\n",
    "\n",
    "month, day, year = map(int, input().split())\n",
    "weekday = calendar.day_name[calendar.weekday(year, month, day)]\n",
    "print(weekday.upper())"
   ]
  },
  {
   "cell_type": "code",
   "execution_count": null,
   "id": "d3c475cb-9bcb-4c5e-b0c1-9a01c7c32416",
   "metadata": {},
   "outputs": [],
   "source": [
    "#Problem 1. Date and time. Time Delta\n",
    "\n",
    "import math\n",
    "import os\n",
    "import random\n",
    "import re\n",
    "import sys\n",
    "from datetime import datetime, timedelta\n",
    "\n",
    "# Complete the time_delta function below.\n",
    "def time_delta(t1, t2):\n",
    "    dt_format = \"%a %d %b %Y %H:%M:%S %z\"\n",
    "    dt1 = datetime.strptime(t1, dt_format)\n",
    "    dt2 = datetime.strptime(t2, dt_format)\n",
    "    delta = abs((dt1 - dt2).total_seconds())\n",
    "    return str(int(delta))\n",
    "if __name__ == '__main__':\n",
    "    fptr = open(os.environ['OUTPUT_PATH'], 'w')\n",
    "\n",
    "    t = int(input())\n",
    "\n",
    "    for t_itr in range(t):\n",
    "        t1 = input()\n",
    "\n",
    "        t2 = input()\n",
    "\n",
    "        delta = time_delta(t1, t2)\n",
    "\n",
    "        fptr.write(delta + '\\n')\n",
    "\n",
    "    fptr.close()\n"
   ]
  },
  {
   "cell_type": "code",
   "execution_count": null,
   "id": "e6c78430-3133-4fe3-8831-58f6070dc2da",
   "metadata": {},
   "outputs": [],
   "source": [
    "#Problem 1. Exceptions\n",
    "\n",
    "T = int(input())\n",
    "\n",
    "for _ in range(T):\n",
    "    try:\n",
    "        a, b = input().split()\n",
    "        print(int(a) // int(b))\n",
    "    except ZeroDivisionError as e:\n",
    "        print(\"Error Code:\", e)\n",
    "    except ValueError as e:\n",
    "        print(\"Error Code:\", e)\n"
   ]
  },
  {
   "cell_type": "code",
   "execution_count": null,
   "id": "97468e19-354b-448d-ad2a-6ee14aaddd3d",
   "metadata": {},
   "outputs": [],
   "source": [
    "#Problem 1. Built-ins. Zipped!\n",
    "\n",
    "N, X = map(int, input().split())\n",
    "\n",
    "marks = [list(map(float, input().split())) for _ in range(X)]\n",
    "\n",
    "for student_marks in zip(*marks):\n",
    "    print(f'{sum(student_marks) / X:.1f}')"
   ]
  },
  {
   "cell_type": "code",
   "execution_count": null,
   "id": "f41a9077-12f4-4b78-b0c9-0970e979eedb",
   "metadata": {},
   "outputs": [],
   "source": [
    "#Problem 1. Built-ins. Athlete Sort\n",
    "\n",
    "if __name__ == '__main__':\n",
    "    nm = input().split()\n",
    "\n",
    "    n = int(nm[0])\n",
    "\n",
    "    m = int(nm[1])\n",
    "\n",
    "    arr = []\n",
    "\n",
    "    for _ in range(n):\n",
    "        arr.append(list(map(int, input().rstrip().split())))\n",
    "\n",
    "    k = int(input())\n",
    "    arr.sort(key=lambda x: x[k])\n",
    "    \n",
    "    for row in arr:\n",
    "        print(*row)"
   ]
  },
  {
   "cell_type": "code",
   "execution_count": null,
   "id": "d9761515-887d-4b42-86c9-b9e960f1cf5b",
   "metadata": {},
   "outputs": [],
   "source": [
    "#Problem 1. Built-ins. ginortS\n",
    "\n",
    "s = input()\n",
    "\n",
    "lowercase = sorted([c for c in s if c.islower()])\n",
    "uppercase = sorted([c for c in s if c.isupper()])\n",
    "odd_digits = sorted([c for c in s if c.isdigit() and int(c) % 2 != 0])\n",
    "even_digits = sorted([c for c in s if c.isdigit() and int(c) % 2 == 0])\n",
    "\n",
    "print(''.join(lowercase + uppercase + odd_digits + even_digits))\n"
   ]
  },
  {
   "cell_type": "code",
   "execution_count": 56,
   "id": "de9b8c6d-ec4e-4252-bf82-fce21ae2ed81",
   "metadata": {},
   "outputs": [
    {
     "name": "stdin",
     "output_type": "stream",
     "text": [
      " 4\n"
     ]
    },
    {
     "name": "stdout",
     "output_type": "stream",
     "text": [
      "[0, 1, 1, 8]\n"
     ]
    }
   ],
   "source": [
    "#Problem 1. Python Functionals. Map and Lambda Function\n",
    "\n",
    "cube = lambda x: x**3\n",
    "\n",
    "def fibonacci(n):\n",
    "    fib_seq = [0, 1]\n",
    "    for i in range(2, n):\n",
    "        fib_seq.append(fib_seq[-1] + fib_seq[-2])\n",
    "    return fib_seq[:n]\n",
    "\n",
    "if __name__ == '__main__':\n",
    "    n = int(input())\n",
    "    print(list(map(cube, fibonacci(n))))"
   ]
  },
  {
   "cell_type": "code",
   "execution_count": null,
   "id": "ecfe5e55-6341-4915-a60b-9455095e234a",
   "metadata": {},
   "outputs": [],
   "source": [
    "#Problem 1. XML. XML 1 - Find the Score\n",
    "\n",
    "import sys\n",
    "import xml.etree.ElementTree as etree\n",
    "\n",
    "def get_attr_number(node):\n",
    "    return len(node.attrib) + sum(get_attr_number(i) for i in node)\n",
    "\n",
    "if __name__ == '__main__':\n",
    "    sys.stdin.readline()\n",
    "    xml = sys.stdin.read()\n",
    "    tree = etree.ElementTree(etree.fromstring(xml))\n",
    "    root = tree.getroot()\n",
    "    print(get_attr_number(root))"
   ]
  },
  {
   "cell_type": "code",
   "execution_count": null,
   "id": "af0bf51b-4940-4a68-8363-124315a29c0d",
   "metadata": {},
   "outputs": [],
   "source": [
    "#Problem 1. Regex and Parsing challenges. Re.split()\n",
    "\n",
    "regex_pattern = r\"[,.]\"\t# Do not delete 'r'.\n",
    "\n",
    "import re\n",
    "print(\"\\n\".join(re.split(regex_pattern, input())))"
   ]
  },
  {
   "cell_type": "code",
   "execution_count": null,
   "id": "bda67795-f3d9-437f-b237-cb8635d65594",
   "metadata": {},
   "outputs": [],
   "source": [
    "#Problem 1. Regex and Parsing challenges. Group(), Groups() & Groupdict()\n",
    "\n",
    "import re\n",
    "\n",
    "string = input()\n",
    "\n",
    "pattern = r'([a-zA-Z0-9])\\1'\n",
    "\n",
    "m = re.search(pattern, string)\n",
    "\n",
    "if m:\n",
    "    print(m.group(1)) \n",
    "else:\n",
    "    print(None) \n"
   ]
  },
  {
   "cell_type": "code",
   "execution_count": null,
   "id": "6386a003-716c-4cee-ba72-65eabd0066d7",
   "metadata": {},
   "outputs": [],
   "source": [
    "#Problem 1. Regex and Parsing challenges. Detect Floating Point Number\n",
    "\n",
    "import re\n",
    "\n",
    "T = int(input())\n",
    "\n",
    "for _ in range(T):\n",
    "    s = input()\n",
    "    if re.match(r'^[+-]?\\d*\\.\\d+$', s):\n",
    "        try:\n",
    "            float(s)\n",
    "            print(True)\n",
    "        except ValueError:\n",
    "            print(False)\n",
    "    else:\n",
    "        print(False)\n"
   ]
  },
  {
   "cell_type": "code",
   "execution_count": null,
   "id": "1bb627f2-ea0c-498d-a4de-cddd0628edea",
   "metadata": {},
   "outputs": [],
   "source": [
    "#Problem 1. Regex and Parsing challenges. Re.findall() & Re.finditer()\n",
    "\n",
    "import re\n",
    "\n",
    "s = input()\n",
    "\n",
    "matches = re.findall(r'(?<=[qwrtypsdfghjklzxcvbnmQWRTYPSDFGHJKLZXCVBNM])[aeiouAEIOU]{2,}(?=[qwrtypsdfghjklzxcvbnmQWRTYPSDFGHJKLZXCVBNM])', s)\n",
    "\n",
    "if matches:\n",
    "    for match in matches:\n",
    "        print(match)\n",
    "else:\n",
    "    print(-1)\n"
   ]
  },
  {
   "cell_type": "code",
   "execution_count": null,
   "id": "4094ea60-b7ea-4a02-8359-0db5a256b86a",
   "metadata": {},
   "outputs": [],
   "source": [
    "#Problem 1. Closures and Decorations. Standardize Mobile Number Using Decorators\n",
    "\n",
    "def wrapper(f):\n",
    "    def fun(l):\n",
    "        f([f\"+91 {num[-10:-5]} {num[-5:]}\" for num in l])\n",
    "    return fun\n",
    "\n",
    "@wrapper\n",
    "def sort_phone(l):\n",
    "    print(*sorted(l), sep='\\n')\n",
    "\n",
    "if __name__ == '__main__':\n",
    "    l = [input() for _ in range(int(input()))]\n",
    "    sort_phone(l) "
   ]
  },
  {
   "cell_type": "code",
   "execution_count": null,
   "id": "4d285c46-43d5-4f19-bf7d-7bca89a895c7",
   "metadata": {},
   "outputs": [],
   "source": [
    "#Problem 1. Closures and Decorations. Decorators 2 - Name Directory\n",
    "\n",
    "import operator\n",
    "\n",
    "def person_lister(f):\n",
    "    def inner(people):\n",
    "        return [f(person) for person in sorted(people, key=lambda x: int(x[2]))]\n",
    "    return inner\n",
    "\n",
    "@person_lister\n",
    "def name_format(person):\n",
    "    return (\"Mr. \" if person[3] == \"M\" else \"Ms. \") + person[0] + \" \" + person[1]\n",
    "\n",
    "if __name__ == '__main__':\n",
    "    people = [input().split() for i in range(int(input()))]\n",
    "    print(*name_format(people), sep='\\n')"
   ]
  },
  {
   "cell_type": "code",
   "execution_count": null,
   "id": "4e9d609b-c9f0-4d00-b0a7-a44a69a01b5c",
   "metadata": {},
   "outputs": [],
   "source": [
    "#Problem 1. Numpy. Arrays\n",
    "\n",
    "import numpy\n",
    "\n",
    "def arrays(arr):\n",
    "    array = numpy.array(arr, float)\n",
    "    return numpy.flip(array)\n",
    "\n",
    "arr = input().strip().split(' ')\n",
    "result = arrays(arr)\n",
    "print(result)"
   ]
  },
  {
   "cell_type": "code",
   "execution_count": null,
   "id": "ac866a63-523e-4d44-be46-df919db4c829",
   "metadata": {},
   "outputs": [],
   "source": [
    "#Problem 1. Numpy. Shape and Reshape\n",
    "\n",
    "import numpy\n",
    "\n",
    "\n",
    "arr = numpy.array(input().split(), int)\n",
    "arr.shape = (3, 3)\n",
    "print(arr)\n"
   ]
  },
  {
   "cell_type": "code",
   "execution_count": null,
   "id": "9c7d2500-c8b3-4c21-a94f-7b622a153136",
   "metadata": {},
   "outputs": [],
   "source": [
    "#Problem 1. Numpy. Transpose and Flatten\n",
    "\n",
    "import numpy\n",
    "\n",
    "\n",
    "\n",
    "n, m = map(int, input().split())\n",
    "matrix = numpy.array([input().split() for _ in range(n)], int)\n",
    "\n",
    "print(numpy.transpose(matrix))\n",
    "print(matrix.flatten())\n"
   ]
  },
  {
   "cell_type": "code",
   "execution_count": null,
   "id": "c244dd93-773f-4fa1-9242-6adcef76804d",
   "metadata": {},
   "outputs": [],
   "source": [
    "#Problem 1. Numpy. Concatenate\n",
    "\n",
    "import numpy\n",
    "\n",
    "\n",
    "\n",
    "n, m, p = map(int, input().split())\n",
    "array_1 = numpy.array([input().split() for _ in range(n)], int)\n",
    "array_2 = numpy.array([input().split() for _ in range(m)], int)\n",
    "\n",
    "result = numpy.concatenate((array_1, array_2), axis=0)\n",
    "print(result)\n"
   ]
  },
  {
   "cell_type": "code",
   "execution_count": null,
   "id": "b71a92ae-d9fe-49be-96fb-3e8da818892b",
   "metadata": {},
   "outputs": [],
   "source": [
    "#Problem 1. Numpy. Zeros and Ones\n",
    "\n",
    "import numpy\n",
    "\n",
    "\n",
    "\n",
    "shape = tuple(map(int, input().split()))\n",
    "\n",
    "print(numpy.zeros(shape, dtype=int))\n",
    "print(numpy.ones(shape, dtype=int))\n"
   ]
  },
  {
   "cell_type": "code",
   "execution_count": null,
   "id": "78167eac-83ec-44ae-8184-94b37640f513",
   "metadata": {},
   "outputs": [],
   "source": [
    "#Problem 1. Numpy. Eye and Identity\n",
    "\n",
    "import numpy\n",
    "numpy.set_printoptions(legacy='1.13')\n",
    "\n",
    "N, M = map(int, input().split())\n",
    "print(numpy.eye(N, M))\n"
   ]
  },
  {
   "cell_type": "code",
   "execution_count": null,
   "id": "ba103dc9-36a1-41ff-856d-1060ad20faff",
   "metadata": {},
   "outputs": [],
   "source": [
    "#Problem 1. Numpy. Array Mathematics\n",
    "\n",
    "import numpy\n",
    "\n",
    "\n",
    "\n",
    "N, M = map(int, input().split())\n",
    "A = numpy.array([input().split() for _ in range(N)], int)\n",
    "B = numpy.array([input().split() for _ in range(N)], int)\n",
    "\n",
    "print(A + B)\n",
    "print(A - B)\n",
    "print(A * B)\n",
    "print(numpy.floor_divide(A, B))\n",
    "print(A % B)\n",
    "print(A ** B)\n"
   ]
  },
  {
   "cell_type": "code",
   "execution_count": null,
   "id": "af5d1c00-692b-492f-a604-ebb7f4009d2c",
   "metadata": {},
   "outputs": [],
   "source": [
    "#Problem 1. Numpy. Floor, Ceil and Rint\n",
    "\n",
    "import numpy\n",
    "\n",
    "numpy.set_printoptions(legacy='1.13')\n",
    "\n",
    "A = numpy.array(input().split(), float)\n",
    "\n",
    "print(numpy.floor(A))\n",
    "print(numpy.ceil(A))\n",
    "print(numpy.rint(A))\n"
   ]
  },
  {
   "cell_type": "code",
   "execution_count": null,
   "id": "3f479ebd-7ab9-4903-879a-75247547cc76",
   "metadata": {},
   "outputs": [],
   "source": [
    "#Problem 1. Numpy. Sum and Prod\n",
    "\n",
    "import numpy\n",
    "\n",
    "\n",
    "\n",
    "N, M = map(int, input().split())\n",
    "arr = numpy.array([input().split() for _ in range(N)], int)\n",
    "sum_0 = numpy.sum(arr, axis=0)\n",
    "product = numpy.prod(sum_0)\n",
    "print(product)\n"
   ]
  },
  {
   "cell_type": "code",
   "execution_count": null,
   "id": "7b87a99e-1f9b-4614-91ba-c6c7abca6d4c",
   "metadata": {},
   "outputs": [],
   "source": [
    "#Problem 1. Numpy. Min and Max\n",
    "\n",
    "import numpy\n",
    "\n",
    "\n",
    "n, m = map(int, input().split())\n",
    "arr = numpy.array([list(map(int, input().split())) for _ in range(n)])\n",
    "print(numpy.max(numpy.min(arr, axis=1)))"
   ]
  },
  {
   "cell_type": "code",
   "execution_count": null,
   "id": "e4b7f4a1-5c47-4e54-a42f-bf09156d6d76",
   "metadata": {},
   "outputs": [],
   "source": [
    "#Problem 1. Numpy. Dot and Cross\n",
    "\n",
    "import numpy\n",
    "\n",
    "def matrix_product():\n",
    "    N = int(input().strip())\n",
    "    \n",
    "    A = []\n",
    "    for _ in range(N):\n",
    "        A.append(list(map(int, input().split())))\n",
    "    \n",
    "    B = []\n",
    "    for _ in range(N):\n",
    "        B.append(list(map(int, input().split())))\n",
    "    \n",
    "    A = numpy.array(A)\n",
    "    B = numpy.array(B)\n",
    "    \n",
    "    result = numpy.dot(A, B)\n",
    "    print(result)\n",
    "\n",
    "if __name__ == \"__main__\":\n",
    "    matrix_product()"
   ]
  },
  {
   "cell_type": "code",
   "execution_count": null,
   "id": "e39dda8a-784e-4e42-ad9e-0295e9d60f25",
   "metadata": {},
   "outputs": [],
   "source": [
    "#Problem 1. Numpy. Inner and Outer\n",
    "\n",
    "import numpy\n",
    "\n",
    "A = numpy.array(list(map(int, input().split())))\n",
    "B = numpy.array(list(map(int, input().split())))\n",
    "\n",
    "print(numpy.inner(A, B))\n",
    "print(numpy.outer(A, B))"
   ]
  },
  {
   "cell_type": "code",
   "execution_count": null,
   "id": "c7a214e5-ba9d-4032-9fe1-63a161c296a0",
   "metadata": {},
   "outputs": [],
   "source": [
    "#Problem 1. Numpy. Polynomials\n",
    "\n",
    "import numpy\n",
    "\n",
    "coefficients = list(map(float, input().split()))\n",
    "x = float(input())\n",
    "\n",
    "result = numpy.polyval(coefficients, x)\n",
    "print(result)\n"
   ]
  },
  {
   "cell_type": "code",
   "execution_count": null,
   "id": "adbe77f4-e5e7-495d-aeb7-b0ee97da6f63",
   "metadata": {},
   "outputs": [],
   "source": [
    "#Problem 1. Numpy. Linear Algebra\n",
    "\n",
    "import numpy as np\n",
    "\n",
    "n = int(input())\n",
    "matrix = [list(map(float, input().split())) for _ in range(n)]\n",
    "\n",
    "determinant = np.linalg.det(matrix)\n",
    "print(round(determinant, 2))"
   ]
  },
  {
   "cell_type": "code",
   "execution_count": null,
   "id": "0c31a50f-0f38-4061-8653-46b98a1acb44",
   "metadata": {},
   "outputs": [],
   "source": [
    "#Problem 1. Regex and Parsing challenges. Matrix Script\n",
    "\n",
    "first_multiple_input = input().rstrip().split()\n",
    "n = int(first_multiple_input[0])\n",
    "m = int(first_multiple_input[1])\n",
    "\n",
    "matrix = []\n",
    "for _ in range(n):\n",
    "    matrix_item = input()\n",
    "    matrix.append(matrix_item)\n",
    "\n",
    "decoded_script = \"\".join([matrix[i][j] for j in range(m) for i in range(n)])\n",
    "print(re.sub(r'(?<=\\w)([^\\w]+)(?=\\w)', ' ', decoded_script))"
   ]
  },
  {
   "cell_type": "code",
   "execution_count": null,
   "id": "56fe5833-4519-4bc8-89fc-55f9e9925e0e",
   "metadata": {},
   "outputs": [],
   "source": [
    "#Problem 1. Regex and Parsing challenges. Validating Postal Codes\n",
    "\n",
    "regex_integer_in_range = r\"^[1-9][0-9]{5}$\"\n",
    "regex_alternating_repetitive_digit_pair = r\"(?=(\\d)\\d\\1)\"\n",
    " ",
    "\n",
    "import re\n",
    "P = input()\n",
    "\n",
    "print (bool(re.match(regex_integer_in_range, P)) \n",
    "and len(re.findall(regex_alternating_repetitive_digit_pair, P)) < 2)"
   ]
  },
  {
   "cell_type": "code",
   "execution_count": null,
   "id": "5fab7340-8fb7-43e7-9ef3-3935734842a6",
   "metadata": {},
   "outputs": [],
   "source": [
    "#Problem 1. Regex and Parsing challenges. Validating Credit Card Numbers\n",
    "\n",
    "n = int(input().strip())\n",
    "\n",
    "for _ in range(n):\n",
    "    card = input().strip()\n",
    "    if re.match(r\"^[456]\\d{3}(-?\\d{4}){3}$\", card):\n",
    "        card_no_dash = card.replace(\"-\", \"\")\n",
    "        if re.search(r\"(\\d)\\1{3}\", card_no_dash):\n",
    "            print(\"Invalid\")\n",
    "        else:\n",
    "            print(\"Valid\")\n",
    "    else:\n",
    "        print(\"Invalid\")"
   ]
  },
  {
   "cell_type": "code",
   "execution_count": null,
   "id": "88a313a0-2978-4870-8728-9397a5e4666c",
   "metadata": {},
   "outputs": [],
   "source": [
    "#Problem 2. Birthday Cake Candles\n",
    "\n",
    "import math\n",
    "import os\n",
    "import random\n",
    "import re\n",
    "import sys\n",
    "\n",
    "def birthdayCakeCandles(candles):\n",
    "    tallest = max(candles)\n",
    "    return candles.count(tallest)\n",
    "\n",
    "if __name__ == '__main__':\n",
    "    fptr = open(os.environ['OUTPUT_PATH'], 'w')\n",
    "\n",
    "    candles_count = int(input().strip())\n",
    "\n",
    "    candles = list(map(int, input().rstrip().split()))\n",
    "\n",
    "    result = birthdayCakeCandles(candles)\n",
    "\n",
    "    fptr.write(str(result) + '\\n')\n",
    "\n",
    "    fptr.close()"
   ]
  },
  {
   "cell_type": "code",
   "execution_count": null,
   "id": "e589a99a-f5e9-4996-b4b3-794edbd7cba5",
   "metadata": {},
   "outputs": [],
   "source": [
    "#Problem 2. Number Line Jumps\n",
    "\n",
    "import math\n",
    "import os\n",
    "import random\n",
    "import re\n",
    "import sys\n",
    "\n",
    "\n",
    "def kangaroo(x1, v1, x2, v2):\n",
    "    if v1 == v2:\n",
    "        return 'YES' if x1 == x2 else 'NO'\n",
    "    elif (x2 - x1) % (v1 - v2) == 0 and (v1 > v2):\n",
    "        return 'YES'\n",
    "    else:\n",
    "        return 'NO'\n",
    "\n",
    "if __name__ == '__main__':\n",
    "    fptr = open(os.environ['OUTPUT_PATH'], 'w')\n",
    "\n",
    "    first_multiple_input = input().rstrip().split()\n",
    "\n",
    "    x1 = int(first_multiple_input[0])\n",
    "    v1 = int(first_multiple_input[1])\n",
    "    x2 = int(first_multiple_input[2])\n",
    "    v2 = int(first_multiple_input[3])\n",
    "\n",
    "    result = kangaroo(x1, v1, x2, v2)\n",
    "\n",
    "    fptr.write(result + '\\n')\n",
    "\n",
    "    fptr.close()"
   ]
  },
  {
   "cell_type": "code",
   "execution_count": null,
   "id": "a0dd1ab0-dc70-43e0-a90b-28469315e41c",
   "metadata": {},
   "outputs": [],
   "source": [
    "#Problem 2. Viral Advertising\n",
    "\n",
    "import math\n",
    "import os\n",
    "import random\n",
    "import re\n",
    "import sys\n",
    "\n",
    "def viralAdvertising(n):\n",
    "    shared = 5\n",
    "    cumulative = 0\n",
    "    for day in range(n):\n",
    "        liked = shared // 2\n",
    "        cumulative += liked\n",
    "        shared = liked * 3\n",
    "    return cumulative\n",
    "\n",
    "if __name__ == '__main__':\n",
    "    fptr = open(os.environ['OUTPUT_PATH'], 'w')\n",
    "\n",
    "    n = int(input().strip())\n",
    "\n",
    "    result = viralAdvertising(n)\n",
    "\n",
    "    fptr.write(str(result) + '\\n')\n",
    "\n",
    "    fptr.close()\n"
   ]
  },
  {
   "cell_type": "code",
   "execution_count": null,
   "id": "fb6c0efd-08ec-4bb0-aed6-e122a9ce7c3b",
   "metadata": {},
   "outputs": [],
   "source": [
    "#Problem 2. Recursive Digit Sum\n",
    "\n",
    "import math\n",
    "import os\n",
    "import random\n",
    "import re\n",
    "import sys\n",
    "\n",
    "def superDigit(n, k):\n",
    "    def get_super_digit(num):\n",
    "        if len(num) == 1:\n",
    "            return int(num)\n",
    "        else:\n",
    "            return get_super_digit(str(sum(int(digit) for digit in num)))\n",
    "\n",
    "    initial_sum = sum(int(digit) for digit in n) * k\n",
    "    return get_super_digit(str(initial_sum))\n",
    "\n",
    "if __name__ == '__main__':\n",
    "    fptr = open(os.environ['OUTPUT_PATH'], 'w')\n",
    "    first_multiple_input = input().rstrip().split()\n",
    "    n = first_multiple_input[0]\n",
    "    k = int(first_multiple_input[1])\n",
    "    result = superDigit(n, k)\n",
    "    fptr.write(str(result) + '\\n')\n",
    "    fptr.close()"
   ]
  },
  {
   "cell_type": "code",
   "execution_count": null,
   "id": "13918a62-fa6d-413d-b855-1e009d6b3da8",
   "metadata": {},
   "outputs": [],
   "source": [
    "#Problem 2. Insertion Sort - Part 1\n",
    "\n",
    "import math\n",
    "import os\n",
    "import random\n",
    "import re\n",
    "import sys\n",
    "\n",
    "def insertionSort1(n, arr):\n",
    "    key = arr[-1]\n",
    "    i = n - 2\n",
    "    while i >= 0 and arr[i] > key:\n",
    "        arr[i + 1] = arr[i]\n",
    "        print(\" \".join(map(str, arr)))\n",
    "        i -= 1\n",
    "    arr[i + 1] = key\n",
    "    print(\" \".join(map(str, arr)))\n",
    "if __name__ == '__main__':\n",
    "    n = int(input().strip())\n",
    "\n",
    "    arr = list(map(int, input().rstrip().split()))\n",
    "\n",
    "    insertionSort1(n, arr)"
   ]
  },
  {
   "cell_type": "code",
   "execution_count": null,
   "id": "95f2489d-e449-4591-a1b9-1672d40daa9a",
   "metadata": {},
   "outputs": [],
   "source": [
    "#Problem 2. Insertion Sort - Part 2\n",
    "\n",
    "def insertionSort2(n, arr):\n",
    "    for i in range(1, n):\n",
    "        key = arr[i]\n",
    "        j = i - 1\n",
    "        while j >= 0 and arr[j] > key:\n",
    "            arr[j + 1] = arr[j]\n",
    "            j -= 1\n",
    "        arr[j + 1] = key\n",
    "        print(*arr)\n",
    "\n",
    "if __name__ == '__main__':\n",
    "    n = int(input().strip())\n",
    "    arr = list(map(int, input().rstrip().split()))\n",
    "    insertionSort2(n, arr)"
   ]
  }
 ],
 "metadata": {
  "kernelspec": {
   "display_name": "Python 3 (ipykernel)",
   "language": "python",
   "name": "python3"
  },
  "language_info": {
   "codemirror_mode": {
    "name": "ipython",
    "version": 3
   },
   "file_extension": ".py",
   "mimetype": "text/x-python",
   "name": "python",
   "nbconvert_exporter": "python",
   "pygments_lexer": "ipython3",
   "version": "3.12.4"
  }
 },
 "nbformat": 4,
 "nbformat_minor": 5
}
